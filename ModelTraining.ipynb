{
 "cells": [
  {
   "cell_type": "code",
   "execution_count": 1,
   "metadata": {},
   "outputs": [],
   "source": [
    "import numpy as np\n",
    "from sklearn.preprocessing import LabelEncoder\n",
    "from tensorflow.keras import utils\n",
    "from sklearn.model_selection import train_test_split\n",
    "from keras.models import Sequential\n",
    "from keras.layers import Dense, Flatten\n",
    "from  tensorflow.keras.optimizers import Adam"
   ]
  },
  {
   "cell_type": "code",
   "execution_count": 8,
   "metadata": {},
   "outputs": [
    {
     "name": "stdout",
     "output_type": "stream",
     "text": [
      "Loaded 360 images for training, Train data shape = (360, 21, 3)\n",
      "Loaded 40 images for testing Test data shape = (40, 21, 3)\n"
     ]
    }
   ],
   "source": [
    "le = LabelEncoder()\n",
    "X = np.load('landmarks/X.npz')['arr_0']\n",
    "y = np.load('landmarks/y.npz')['arr_0']\n",
    "y = le.fit_transform(y)\n",
    "y = utils.to_categorical(y)\n",
    "\n",
    "x_train, x_test, y_train, y_test = train_test_split(X, y, test_size = 0.1,random_state=42, stratify = y)\n",
    "\n",
    "print('Loaded', len(x_train),'images for training,','Train data shape =', x_train.shape)\n",
    "print('Loaded', len(x_test),'images for testing','Test data shape =', x_test.shape)"
   ]
  },
  {
   "cell_type": "code",
   "execution_count": 15,
   "metadata": {},
   "outputs": [],
   "source": [
    "model = Sequential()\n",
    "model.add(Flatten(input_shape=(21, 3) ))\n",
    "model.add(Dense(50, activation='relu'))\n",
    "model.add(Dense(50, activation='relu'))\n",
    "model.add(Dense(len(le.classes_), activation='softmax'))"
   ]
  },
  {
   "cell_type": "code",
   "execution_count": 16,
   "metadata": {},
   "outputs": [
    {
     "name": "stdout",
     "output_type": "stream",
     "text": [
      "Model: \"sequential_3\"\n",
      "_________________________________________________________________\n",
      "Layer (type)                 Output Shape              Param #   \n",
      "=================================================================\n",
      "flatten_3 (Flatten)          (None, 63)                0         \n",
      "_________________________________________________________________\n",
      "dense_9 (Dense)              (None, 50)                3200      \n",
      "_________________________________________________________________\n",
      "dense_10 (Dense)             (None, 50)                2550      \n",
      "_________________________________________________________________\n",
      "dense_11 (Dense)             (None, 8)                 408       \n",
      "=================================================================\n",
      "Total params: 6,158\n",
      "Trainable params: 6,158\n",
      "Non-trainable params: 0\n",
      "_________________________________________________________________\n"
     ]
    }
   ],
   "source": [
    "model.summary()"
   ]
  },
  {
   "cell_type": "code",
   "execution_count": 17,
   "metadata": {},
   "outputs": [],
   "source": [
    "model.compile(optimizer='adam',\n",
    "            loss = 'categorical_crossentropy',\n",
    "              metrics = ['accuracy'])"
   ]
  },
  {
   "cell_type": "code",
   "execution_count": 18,
   "metadata": {},
   "outputs": [
    {
     "name": "stdout",
     "output_type": "stream",
     "text": [
      "Epoch 1/30\n",
      "12/12 [==============================] - 1s 21ms/step - loss: 2.0487 - accuracy: 0.1453 - val_loss: 1.9700 - val_accuracy: 0.3250\n",
      "Epoch 2/30\n",
      "12/12 [==============================] - 0s 5ms/step - loss: 1.9462 - accuracy: 0.4099 - val_loss: 1.8662 - val_accuracy: 0.7250\n",
      "Epoch 3/30\n",
      "12/12 [==============================] - 0s 4ms/step - loss: 1.8359 - accuracy: 0.7726 - val_loss: 1.7311 - val_accuracy: 0.7500\n",
      "Epoch 4/30\n",
      "12/12 [==============================] - 0s 4ms/step - loss: 1.7189 - accuracy: 0.7875 - val_loss: 1.5732 - val_accuracy: 0.8750\n",
      "Epoch 5/30\n",
      "12/12 [==============================] - 0s 4ms/step - loss: 1.5462 - accuracy: 0.8405 - val_loss: 1.4032 - val_accuracy: 0.8750\n",
      "Epoch 6/30\n",
      "12/12 [==============================] - 0s 4ms/step - loss: 1.3705 - accuracy: 0.7888 - val_loss: 1.2346 - val_accuracy: 0.9250\n",
      "Epoch 7/30\n",
      "12/12 [==============================] - 0s 4ms/step - loss: 1.2132 - accuracy: 0.9036 - val_loss: 1.0787 - val_accuracy: 1.0000\n",
      "Epoch 8/30\n",
      "12/12 [==============================] - 0s 4ms/step - loss: 1.0425 - accuracy: 0.9331 - val_loss: 0.9265 - val_accuracy: 0.9000\n",
      "Epoch 9/30\n",
      "12/12 [==============================] - 0s 4ms/step - loss: 0.9270 - accuracy: 0.9345 - val_loss: 0.7890 - val_accuracy: 0.9000\n",
      "Epoch 10/30\n",
      "12/12 [==============================] - 0s 4ms/step - loss: 0.7982 - accuracy: 0.9370 - val_loss: 0.6637 - val_accuracy: 0.9000\n",
      "Epoch 11/30\n",
      "12/12 [==============================] - 0s 4ms/step - loss: 0.6385 - accuracy: 0.9496 - val_loss: 0.5497 - val_accuracy: 1.0000\n",
      "Epoch 12/30\n",
      "12/12 [==============================] - 0s 5ms/step - loss: 0.5680 - accuracy: 1.0000 - val_loss: 0.4546 - val_accuracy: 1.0000\n",
      "Epoch 13/30\n",
      "12/12 [==============================] - 0s 4ms/step - loss: 0.4475 - accuracy: 0.9932 - val_loss: 0.3768 - val_accuracy: 1.0000\n",
      "Epoch 14/30\n",
      "12/12 [==============================] - 0s 4ms/step - loss: 0.3930 - accuracy: 0.9878 - val_loss: 0.3134 - val_accuracy: 1.0000\n",
      "Epoch 15/30\n",
      "12/12 [==============================] - 0s 4ms/step - loss: 0.3290 - accuracy: 0.9868 - val_loss: 0.2624 - val_accuracy: 1.0000\n",
      "Epoch 16/30\n",
      "12/12 [==============================] - 0s 4ms/step - loss: 0.2693 - accuracy: 1.0000 - val_loss: 0.2222 - val_accuracy: 1.0000\n",
      "Epoch 17/30\n",
      "12/12 [==============================] - 0s 4ms/step - loss: 0.2403 - accuracy: 1.0000 - val_loss: 0.1901 - val_accuracy: 1.0000\n",
      "Epoch 18/30\n",
      "12/12 [==============================] - 0s 4ms/step - loss: 0.2061 - accuracy: 1.0000 - val_loss: 0.1644 - val_accuracy: 1.0000\n",
      "Epoch 19/30\n",
      "12/12 [==============================] - 0s 4ms/step - loss: 0.1762 - accuracy: 0.9978 - val_loss: 0.1423 - val_accuracy: 1.0000\n",
      "Epoch 20/30\n",
      "12/12 [==============================] - 0s 4ms/step - loss: 0.1501 - accuracy: 1.0000 - val_loss: 0.1246 - val_accuracy: 1.0000\n",
      "Epoch 21/30\n",
      "12/12 [==============================] - 0s 4ms/step - loss: 0.1432 - accuracy: 1.0000 - val_loss: 0.1127 - val_accuracy: 1.0000\n",
      "Epoch 22/30\n",
      "12/12 [==============================] - 0s 4ms/step - loss: 0.1134 - accuracy: 1.0000 - val_loss: 0.0977 - val_accuracy: 1.0000\n",
      "Epoch 23/30\n",
      "12/12 [==============================] - 0s 4ms/step - loss: 0.1166 - accuracy: 1.0000 - val_loss: 0.0875 - val_accuracy: 1.0000\n",
      "Epoch 24/30\n",
      "12/12 [==============================] - 0s 4ms/step - loss: 0.0975 - accuracy: 1.0000 - val_loss: 0.0784 - val_accuracy: 1.0000\n",
      "Epoch 25/30\n",
      "12/12 [==============================] - 0s 4ms/step - loss: 0.0904 - accuracy: 1.0000 - val_loss: 0.0701 - val_accuracy: 1.0000\n",
      "Epoch 26/30\n",
      "12/12 [==============================] - 0s 5ms/step - loss: 0.0817 - accuracy: 1.0000 - val_loss: 0.0637 - val_accuracy: 1.0000\n",
      "Epoch 27/30\n",
      "12/12 [==============================] - 0s 4ms/step - loss: 0.0751 - accuracy: 1.0000 - val_loss: 0.0565 - val_accuracy: 1.0000\n",
      "Epoch 28/30\n",
      "12/12 [==============================] - 0s 4ms/step - loss: 0.0646 - accuracy: 1.0000 - val_loss: 0.0524 - val_accuracy: 1.0000\n",
      "Epoch 29/30\n",
      "12/12 [==============================] - 0s 4ms/step - loss: 0.0655 - accuracy: 1.0000 - val_loss: 0.0477 - val_accuracy: 1.0000\n",
      "Epoch 30/30\n",
      "12/12 [==============================] - 0s 4ms/step - loss: 0.0551 - accuracy: 1.0000 - val_loss: 0.0431 - val_accuracy: 1.0000\n"
     ]
    }
   ],
   "source": [
    "history = model.fit(x_train,y_train,\n",
    "                    validation_data=(x_test,y_test),\n",
    "                    epochs = 30,\n",
    "                    verbose = 1)"
   ]
  },
  {
   "cell_type": "code",
   "execution_count": 7,
   "metadata": {},
   "outputs": [
    {
     "name": "stdout",
     "output_type": "stream",
     "text": [
      "INFO:tensorflow:Assets written to: my_model\\assets\n"
     ]
    }
   ],
   "source": [
    "model.save('my_model')"
   ]
  }
 ],
 "metadata": {
  "kernelspec": {
   "display_name": "Python 3",
   "language": "python",
   "name": "python3"
  },
  "language_info": {
   "codemirror_mode": {
    "name": "ipython",
    "version": 3
   },
   "file_extension": ".py",
   "mimetype": "text/x-python",
   "name": "python",
   "nbconvert_exporter": "python",
   "pygments_lexer": "ipython3",
   "version": "3.8.3"
  }
 },
 "nbformat": 4,
 "nbformat_minor": 4
}
